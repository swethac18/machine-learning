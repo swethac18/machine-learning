{
 "cells": [
  {
   "cell_type": "markdown",
   "metadata": {},
   "source": [
    "# Swetha Chandrasekar\n",
    "# 012497628\n",
    "# Exploring the use of word vectors and doc vectors as features for predicting fake news"
   ]
  },
  {
   "cell_type": "markdown",
   "metadata": {},
   "source": [
    "# <u>Business problem </u>\n",
    "<h1> Given a 'text' of statement made by a politician and 'the party affliation', predict whether the news is fake news or not </h1>\n",
    "<h2> dataset: LIAR dataset </h2>\n",
    "<h3>labelling <br>\n",
    "\n",
    "<font color = red>0 - news labelled as [ false, barely true ] </font> <b> in LIAR dataset </b> <br>\n",
    "<font color=green> 1 - new labelled as [true, mostly true, half true] <b> in LIAR dataset </b></font>\n",
    "</h3>"
   ]
  },
  {
   "cell_type": "code",
   "execution_count": 13,
   "metadata": {},
   "outputs": [],
   "source": [
    "lines = open('train.tsv','r',encoding='utf-8').readlines()"
   ]
  },
  {
   "cell_type": "code",
   "execution_count": 14,
   "metadata": {},
   "outputs": [
    {
     "data": {
      "text/plain": [
       "10269"
      ]
     },
     "execution_count": 14,
     "metadata": {},
     "output_type": "execute_result"
    }
   ],
   "source": [
    "#Size of the dataset LIAR\n",
    "len(lines)\n"
   ]
  },
  {
   "cell_type": "code",
   "execution_count": 15,
   "metadata": {},
   "outputs": [
    {
     "name": "stdout",
     "output_type": "stream",
     "text": [
      "0 2635.json\n",
      "1 false\n",
      "2 Says the Annies List political group supports third-trimester abortions on demand.\n",
      "3 abortion\n",
      "4 dwayne-bohac\n",
      "5 State representative\n",
      "6 Texas\n",
      "7 republican\n",
      "8 0\n",
      "9 1\n",
      "10 0\n",
      "11 0\n",
      "12 0\n",
      "13 a mailer\n"
     ]
    }
   ],
   "source": [
    "d =lines[0].strip().split('\\t')\n",
    "for i in range(0,len(d)):\n",
    "    print (i,d[i])"
   ]
  },
  {
   "cell_type": "markdown",
   "metadata": {},
   "source": [
    "<h1> Label 1 for true , Label 0 for fake news </h1>\n",
    "<h2> true and mostly-true news are marked as 1 and false, barely-true and half-true are marked as 0 </h2>"
   ]
  },
  {
   "cell_type": "code",
   "execution_count": 16,
   "metadata": {},
   "outputs": [],
   "source": [
    "true_data = []\n",
    "false_data = []\n",
    "overall_data = []\n",
    "label = []\n",
    "for i in range(0,len(lines)):\n",
    "    line = lines[i].strip().lower().split()\n",
    "    overall_data.append(lines[i].strip().lower())\n",
    "    if (line[1]== 'true' or line[1] =='mostly-true'):\n",
    "        true_data.append(lines[i].strip().lower())\n",
    "        label.append(1)\n",
    "    else:\n",
    "        false_data.append(lines[i].strip().lower())\n",
    "        label.append(0)\n",
    "## Please note overall data still contains all of training data"
   ]
  },
  {
   "cell_type": "markdown",
   "metadata": {},
   "source": [
    "# Data preprocessing\n",
    "1. word tokenization\n",
    "2. stop words removal\n",
    "3. punctuation removal\n"
   ]
  },
  {
   "cell_type": "markdown",
   "metadata": {},
   "source": [
    "<h1>use nltk word tokenize and remove stop words </h1>\n",
    "\n"
   ]
  },
  {
   "cell_type": "code",
   "execution_count": 17,
   "metadata": {},
   "outputs": [
    {
     "data": {
      "text/plain": [
       "['republican',\n",
       " 'says',\n",
       " 'annies',\n",
       " 'list',\n",
       " 'political',\n",
       " 'group',\n",
       " 'supports',\n",
       " 'third-trimester',\n",
       " 'abortions',\n",
       " 'demand',\n",
       " 'republican-says',\n",
       " 'says-annies',\n",
       " 'annies-list',\n",
       " 'list-political',\n",
       " 'political-group',\n",
       " 'group-supports',\n",
       " 'supports-third-trimester',\n",
       " 'third-trimester-abortions',\n",
       " 'abortions-demand']"
      ]
     },
     "execution_count": 17,
     "metadata": {},
     "output_type": "execute_result"
    }
   ],
   "source": [
    "##use nltk word tokenize and remove stop words\n",
    "import nltk;\n",
    "from nltk import word_tokenize\n",
    "from nltk.corpus import stopwords\n",
    "import string\n",
    "stop = stopwords.words('english') + list(string.punctuation)\n",
    "data = []\n",
    "for line in overall_data:\n",
    "    text = line.split('\\t')[2].lower()\n",
    "    party = line.split('\\t')[7].lower()\n",
    "    line = party + ' ' + text \n",
    "    tokens = [i for i in word_tokenize(line.strip().lower()) if i not in stop]\n",
    "    bigrams = []\n",
    "    for i in range(0,len(tokens)-1):\n",
    "        bigram = tokens[i]+'-'+tokens[i+1]\n",
    "        bigrams.append(bigram)\n",
    "    for bigram in bigrams:\n",
    "        tokens.append(bigram)\n",
    "        \n",
    "    data.append(tokens)\n",
    "data[0]"
   ]
  },
  {
   "cell_type": "markdown",
   "metadata": {},
   "source": [
    "<h1> Use Gensim to create word vectors from the dataset </h1>"
   ]
  },
  {
   "cell_type": "code",
   "execution_count": 18,
   "metadata": {},
   "outputs": [
    {
     "name": "stdout",
     "output_type": "stream",
     "text": [
      "Word2Vec(vocab=92977, size=100, alpha=0.025)\n",
      "[ 0.31897926 -0.30075017  0.44385406 -0.17423193  0.1243563  -0.33319739\n",
      "  0.2366526   0.13807273 -0.06000553  0.15087457 -0.18188144 -0.51663405\n",
      "  0.23263232  0.08559159  0.10304885 -0.07093515 -0.4035804   0.7325571\n",
      " -0.02796763  0.17175746  0.06813262  0.20064272  0.23084304 -0.0850437\n",
      "  0.14919935 -0.31115928  0.21708335 -0.18335776 -0.45425603  0.10432383\n",
      " -0.47049436  0.0792982  -0.12893318 -0.20049219  0.01028899  0.14515536\n",
      "  0.01766144  0.6455017  -0.9117627   0.0977454  -0.0754137  -0.23475714\n",
      "  0.14027558  0.17047912  0.42759764 -0.11709759 -0.0266041  -0.24688077\n",
      "  0.37782544  0.20485552 -0.17458831  0.04581442  0.3875592  -0.10467814\n",
      "  0.11258423 -0.07504772  0.11266632 -0.17260388 -0.01944898  0.33609337\n",
      " -0.02069018  0.40547213 -0.27306816 -0.00265422  0.19421665 -0.03756718\n",
      " -0.19921534 -0.31526777 -0.22197212  0.6758196   0.5042538   0.09248549\n",
      "  0.04989912  0.04865578 -0.19948936  0.37930933 -0.07374278  0.5284764\n",
      "  0.3227551   0.36457747 -0.1326536   0.12518696 -0.14423117  0.13402468\n",
      " -0.10949295 -0.8775108  -0.15665302 -0.17121364  0.01590516 -0.39536867\n",
      " -0.09994487 -0.36205694 -0.23320152 -0.1390627  -0.12429236  0.26197228\n",
      " -0.00492753  0.17064002  0.0061315   0.78058666]\n"
     ]
    },
    {
     "name": "stderr",
     "output_type": "stream",
     "text": [
      "/Library/Frameworks/Python.framework/Versions/3.6/lib/python3.6/site-packages/ipykernel_launcher.py:10: DeprecationWarning: Call to deprecated `__getitem__` (Method will be removed in 4.0.0, use self.wv.__getitem__() instead).\n",
      "  # Remove the CWD from sys.path while we load stuff.\n"
     ]
    },
    {
     "name": "stdout",
     "output_type": "stream",
     "text": [
      "Word2Vec(vocab=92977, size=100, alpha=0.025)\n"
     ]
    }
   ],
   "source": [
    "# code referenced from https://machinelearningmastery.com/develop-word-embeddings-python-gensim/\n",
    "from gensim.models import Word2Vec\n",
    "model = Word2Vec(data, min_count=1)\n",
    "# summarize the loaded model\n",
    "print(model)\n",
    "# summarize vocabulary\n",
    "words = list(model.wv.vocab)\n",
    "#print(words)\n",
    "# access vector for one word\n",
    "print(model['democrat'])\n",
    "# save model\n",
    "model.save('overall_model.bin')\n",
    "# load model\n",
    "overall_model = Word2Vec.load('overall_model.bin')\n",
    "print(overall_model)\n",
    "word_vector = overall_model"
   ]
  },
  {
   "cell_type": "code",
   "execution_count": 19,
   "metadata": {},
   "outputs": [
    {
     "name": "stderr",
     "output_type": "stream",
     "text": [
      "/Library/Frameworks/Python.framework/Versions/3.6/lib/python3.6/site-packages/ipykernel_launcher.py:1: DeprecationWarning: Call to deprecated `__getitem__` (Method will be removed in 4.0.0, use self.wv.__getitem__() instead).\n",
      "  \"\"\"Entry point for launching an IPython kernel.\n"
     ]
    },
    {
     "data": {
      "text/plain": [
       "array([ 0.33897433, -0.59048635,  0.6557907 , -0.33503222,  0.54515976,\n",
       "       -0.47942203,  0.4455034 , -0.08991055,  0.22880368,  0.19982775,\n",
       "        0.41465282, -0.6330831 ,  0.25364527,  0.3487599 ,  0.48313352,\n",
       "       -0.2593625 , -0.34602714,  0.97673786, -0.31028423, -0.60180557,\n",
       "        0.4787836 ,  0.5255844 ,  0.6542921 , -0.14999017,  0.37448248,\n",
       "       -0.53197604,  0.8901366 ,  0.12900764, -0.7812516 ,  0.05211644,\n",
       "       -0.31702915,  0.43272883, -0.35417983, -0.5982939 ,  0.04467162,\n",
       "        0.22235258, -0.48438385,  1.0986974 , -1.0969946 , -0.11615343,\n",
       "        0.5427212 , -0.02426909, -0.26657188,  0.3559324 ,  0.51013803,\n",
       "       -0.34641662, -0.5705519 , -0.6110502 ,  0.05419513,  0.28984833,\n",
       "       -0.14748605,  0.00824218,  0.39754778, -0.1230918 ,  0.1646678 ,\n",
       "        0.17900738, -0.08766048, -0.06761001, -0.329739  ,  0.11669856,\n",
       "        0.18208218,  0.17740816, -0.22810547, -0.55386263,  0.34158117,\n",
       "        0.51130086, -0.27507374, -0.6103686 , -0.8581103 ,  0.70090467,\n",
       "        0.64521176,  0.1946195 ,  0.35541034,  0.25334576, -0.29693273,\n",
       "        0.1580325 ,  0.43624806,  0.7548263 ,  0.4955426 ,  0.42796585,\n",
       "       -0.24516341,  0.10135438,  0.5300117 ,  0.3598582 , -0.42595124,\n",
       "       -1.1625699 , -0.01009288,  0.09942321,  0.39883178, -0.20404376,\n",
       "        0.14560086, -0.20269737,  0.15993986, -0.18679662, -0.4098167 ,\n",
       "        0.6344006 ,  0.4061824 ,  0.12746826, -0.5168829 ,  0.7296956 ],\n",
       "      dtype=float32)"
      ]
     },
     "execution_count": 19,
     "metadata": {},
     "output_type": "execute_result"
    }
   ],
   "source": [
    "word_vector[\"obama\"]"
   ]
  },
  {
   "cell_type": "markdown",
   "metadata": {},
   "source": [
    "## Word vectors represent latent signals projecting word as a vector in an n-dimensional space\n",
    "## Let us use word vectors directly as features to predict if the news is fake or not\n",
    "word vector simply gives array of numbers of size n. <br> <b>\n",
    "<font color=green>We can directly use the sum of word vectors as features.</font> <br> </b>\n",
    "## 1. sentences are made of multiple words, \n",
    "## 2. then we simply add the vectors of each word and get resultant vector for that sentence and use that as feature\n",
    "## example vector('obama is socialist') = vector['obama'] + vector['is']+  vector['socialist']\n",
    "## <font color=red> This may not be the right approach as doc2vec is a better approach. This was suggested by professor in class to compare it with doc2vec. </font>"
   ]
  },
  {
   "cell_type": "code",
   "execution_count": 20,
   "metadata": {},
   "outputs": [
    {
     "name": "stderr",
     "output_type": "stream",
     "text": [
      "/Library/Frameworks/Python.framework/Versions/3.6/lib/python3.6/site-packages/ipykernel_launcher.py:5: DeprecationWarning: Call to deprecated `__contains__` (Method will be removed in 4.0.0, use self.wv.__contains__() instead).\n",
      "  \"\"\"\n",
      "/Library/Frameworks/Python.framework/Versions/3.6/lib/python3.6/site-packages/ipykernel_launcher.py:6: DeprecationWarning: Call to deprecated `__getitem__` (Method will be removed in 4.0.0, use self.wv.__getitem__() instead).\n",
      "  \n"
     ]
    }
   ],
   "source": [
    "X = []\n",
    "for line in data:\n",
    "    vectors = []\n",
    "    for word in line:\n",
    "        if word in overall_model:\n",
    "            vector = overall_model[word]\n",
    "            vectors.append(vector)\n",
    "    word_vector = []\n",
    "\n",
    "    for i in range(0,len(vectors[0])):\n",
    "        val = 0.0\n",
    "        for j in range(0,len(vectors)):\n",
    "            val += vectors[j][i]\n",
    "        word_vector.append(val)\n",
    "    X.append(word_vector)\n",
    "        \n"
   ]
  },
  {
   "cell_type": "markdown",
   "metadata": {},
   "source": [
    "# Run Logistic regression on features from word vector to label (0,1)"
   ]
  },
  {
   "cell_type": "code",
   "execution_count": 25,
   "metadata": {},
   "outputs": [
    {
     "name": "stderr",
     "output_type": "stream",
     "text": [
      "/Library/Frameworks/Python.framework/Versions/3.6/lib/python3.6/site-packages/sklearn/utils/validation.py:578: DataConversionWarning: A column-vector y was passed when a 1d array was expected. Please change the shape of y to (n_samples, ), for example using ravel().\n",
      "  y = column_or_1d(y, warn=True)\n"
     ]
    },
    {
     "name": "stdout",
     "output_type": "stream",
     "text": [
      "[LibLinear]LogisticRegression(C=1.0, class_weight=None, dual=False, fit_intercept=True,\n",
      "          intercept_scaling=1, max_iter=100, multi_class='ovr', n_jobs=1,\n",
      "          penalty='l2', random_state=None, solver='liblinear', tol=0.0001,\n",
      "          verbose=1, warm_start=False)\n",
      "Score: 0.6425233644859814\n"
     ]
    }
   ],
   "source": [
    "import pandas as pd\n",
    "X_df = pd.DataFrame(X)\n",
    "Y = pd.DataFrame(label)\n",
    "scaled_X = X_df\n",
    "scaled_Y = Y\n",
    "from sklearn.model_selection import train_test_split\n",
    "from sklearn import linear_model\n",
    "X_train, X_test, y_train, y_test = train_test_split(scaled_X, scaled_Y, test_size=0.25, random_state=0)\n",
    "lm = linear_model.LogisticRegression(verbose=1)\n",
    "model = lm.fit(X_train, y_train)\n",
    "print (model)\n",
    "predictions = lm.predict(X_test)\n",
    "\n",
    "print (\"Score:\", model.score(X_test, y_test))\n",
    "w2vecmodel = model"
   ]
  },
  {
   "cell_type": "markdown",
   "metadata": {},
   "source": [
    "## Logistic regression was trained on word vectors and it has accuracy of 0.64 in predicting the fake news on test set. let us test on sample sentence \n",
    "lets say if republican says \"obama supports third trimester abortion\""
   ]
  },
  {
   "cell_type": "code",
   "execution_count": 26,
   "metadata": {},
   "outputs": [
    {
     "name": "stderr",
     "output_type": "stream",
     "text": [
      "/Library/Frameworks/Python.framework/Versions/3.6/lib/python3.6/site-packages/ipykernel_launcher.py:9: DeprecationWarning: Call to deprecated `__contains__` (Method will be removed in 4.0.0, use self.wv.__contains__() instead).\n",
      "  if __name__ == '__main__':\n",
      "/Library/Frameworks/Python.framework/Versions/3.6/lib/python3.6/site-packages/ipykernel_launcher.py:10: DeprecationWarning: Call to deprecated `__getitem__` (Method will be removed in 4.0.0, use self.wv.__getitem__() instead).\n",
      "  # Remove the CWD from sys.path while we load stuff.\n"
     ]
    },
    {
     "data": {
      "text/plain": [
       "array([[0.74095653, 0.25904347]])"
      ]
     },
     "execution_count": 26,
     "metadata": {},
     "output_type": "execute_result"
    }
   ],
   "source": [
    "testing= \"republican says obama supports third trimester abortion\"\n",
    "\n",
    "import numpy as np\n",
    "def getVector(s):\n",
    "    s = s.lower()\n",
    "    words = word_tokenize(s)\n",
    "    vectors = []\n",
    "    for word in words:\n",
    "        if word in overall_model:\n",
    "            vectors.append(overall_model[word])\n",
    "    sum_vector = []\n",
    "    for i in range(0,len(vectors[0])):\n",
    "        val = 0.0\n",
    "        for j in range(0,len(vectors)):\n",
    "            val += vectors[j][i]\n",
    "        sum_vector.append(val)\n",
    "    return pd.DataFrame([sum_vector])\n",
    "\n",
    "testX = getVector(testing)\n",
    "result_score = model.predict(testX)\n",
    "model.predict_proba(testX)\n",
    "### 0.71 probability that news belong to class 0 which is fake news"
   ]
  },
  {
   "cell_type": "markdown",
   "metadata": {},
   "source": [
    "## Class 1 probability is 0.28 and class 0 probability is 0.72 , so its likely a <font color=red> fake news </font> that <font color=red> \"republican says obama supports third trimester abortion\" </font>"
   ]
  },
  {
   "cell_type": "markdown",
   "metadata": {},
   "source": [
    "# So far, we tried word2vec and summed the word vectors of individual words to get vector for each text"
   ]
  },
  {
   "cell_type": "markdown",
   "metadata": {},
   "source": [
    "# Let's try doc2vec to see if embeddings for text as a whole is performs better than word2vec"
   ]
  },
  {
   "cell_type": "code",
   "execution_count": 27,
   "metadata": {},
   "outputs": [
    {
     "data": {
      "text/plain": [
       "'republican says the annies list political group supports third-trimester abortions on demand.'"
      ]
     },
     "execution_count": 27,
     "metadata": {},
     "output_type": "execute_result"
    }
   ],
   "source": [
    "#https://medium.com/@mishra.thedeepak/doc2vec-simple-implementation-example-df2afbbfbad5\n",
    "from gensim.models.doc2vec import Doc2Vec, TaggedDocument\n",
    "from nltk.tokenize import word_tokenize\n",
    "data = []\n",
    "for line in overall_data:\n",
    "    T = line.strip().split('\\t')\n",
    "    text = T[2]\n",
    "    party = T[7]\n",
    "    text = party + ' ' + text\n",
    "    data.append(text.lower())\n",
    "tagged_data = [TaggedDocument(words=word_tokenize(_d.lower()), tags=[str(i)]) for i, _d in enumerate(data)]\n",
    "data[0]"
   ]
  },
  {
   "cell_type": "code",
   "execution_count": 28,
   "metadata": {},
   "outputs": [
    {
     "name": "stderr",
     "output_type": "stream",
     "text": [
      "/Library/Frameworks/Python.framework/Versions/3.6/lib/python3.6/site-packages/gensim/models/doc2vec.py:570: UserWarning: The parameter `size` is deprecated, will be removed in 4.0.0, use `vector_size` instead.\n",
      "  warnings.warn(\"The parameter `size` is deprecated, will be removed in 4.0.0, use `vector_size` instead.\")\n"
     ]
    },
    {
     "name": "stdout",
     "output_type": "stream",
     "text": [
      "iteration 0\n"
     ]
    },
    {
     "name": "stderr",
     "output_type": "stream",
     "text": [
      "/Library/Frameworks/Python.framework/Versions/3.6/lib/python3.6/site-packages/ipykernel_launcher.py:17: DeprecationWarning: Call to deprecated `iter` (Attribute will be removed in 4.0.0, use self.epochs instead).\n"
     ]
    },
    {
     "name": "stdout",
     "output_type": "stream",
     "text": [
      "iteration 1\n",
      "iteration 2\n",
      "iteration 3\n",
      "iteration 4\n",
      "iteration 5\n",
      "iteration 6\n",
      "iteration 7\n",
      "iteration 8\n",
      "iteration 9\n",
      "Model Saved\n"
     ]
    }
   ],
   "source": [
    "max_epochs = 10\n",
    "vec_size = 20\n",
    "alpha = 0.025\n",
    "\n",
    "model = Doc2Vec(size=vec_size,\n",
    "                alpha=alpha, \n",
    "                min_alpha=0.00025,\n",
    "                min_count=1,\n",
    "                dm =1)\n",
    "  \n",
    "model.build_vocab(tagged_data)\n",
    "\n",
    "for epoch in range(max_epochs):\n",
    "    print('iteration {0}'.format(epoch))\n",
    "    model.train(tagged_data,\n",
    "                total_examples=model.corpus_count,\n",
    "                epochs=model.iter)\n",
    "    # decrease the learning rate\n",
    "    model.alpha -= 0.0002\n",
    "    # fix the learning rate, no decay\n",
    "    model.min_alpha = model.alpha\n",
    "\n",
    "model.save(\"d2v.model\")\n",
    "print(\"Model Saved\")"
   ]
  },
  {
   "cell_type": "code",
   "execution_count": 29,
   "metadata": {},
   "outputs": [
    {
     "data": {
      "text/plain": [
       "array([-0.0183533 ,  0.01229155, -0.00439514,  0.17856328,  0.06666941,\n",
       "       -0.0116841 ,  0.1876027 ,  0.28720534, -0.12316225,  0.0389136 ,\n",
       "       -0.02605944, -0.11202887,  0.14041743,  0.11761943, -0.1597844 ,\n",
       "        0.1690564 ,  0.16085854,  0.01233068,  0.10842273,  0.08658281],\n",
       "      dtype=float32)"
      ]
     },
     "execution_count": 29,
     "metadata": {},
     "output_type": "execute_result"
    }
   ],
   "source": [
    "from gensim.models.doc2vec import Doc2Vec\n",
    "\n",
    "model= Doc2Vec.load(\"d2v.model\")\n",
    "#to find the vector of a document which is not in training data\n",
    "test_data = word_tokenize(\"republicans say obama supports third trimester abortion\".lower())\n",
    "v1 = model.infer_vector(test_data)\n",
    "v1\n"
   ]
  },
  {
   "cell_type": "code",
   "execution_count": 30,
   "metadata": {},
   "outputs": [],
   "source": [
    "doc2vecFeatures = []\n",
    "for line in overall_data:\n",
    "    T = line.strip().split('\\t')\n",
    "    text = T[2]\n",
    "    party = T[7]\n",
    "    text = party + ' ' + text\n",
    "    doc2vecFeatures.append(model.infer_vector(word_tokenize(text)))"
   ]
  },
  {
   "cell_type": "markdown",
   "metadata": {},
   "source": [
    "# Let us use doc2vec vector embeddings directly as a feature and measure its performance against word2vec vector sums"
   ]
  },
  {
   "cell_type": "code",
   "execution_count": 31,
   "metadata": {},
   "outputs": [
    {
     "name": "stdout",
     "output_type": "stream",
     "text": [
      "[LibLinear]LogisticRegression(C=1.0, class_weight=None, dual=False, fit_intercept=True,\n",
      "          intercept_scaling=1, max_iter=100, multi_class='ovr', n_jobs=1,\n",
      "          penalty='l2', random_state=None, solver='liblinear', tol=0.0001,\n",
      "          verbose=1, warm_start=False)\n",
      "Score: 0.6416747809152873\n"
     ]
    },
    {
     "name": "stderr",
     "output_type": "stream",
     "text": [
      "/Library/Frameworks/Python.framework/Versions/3.6/lib/python3.6/site-packages/sklearn/utils/validation.py:578: DataConversionWarning: A column-vector y was passed when a 1d array was expected. Please change the shape of y to (n_samples, ), for example using ravel().\n",
      "  y = column_or_1d(y, warn=True)\n"
     ]
    }
   ],
   "source": [
    "import pandas as pd\n",
    "X_df = pd.DataFrame(doc2vecFeatures)\n",
    "Y = pd.DataFrame(label)\n",
    "scaled_X = X_df\n",
    "scaled_Y = Y\n",
    "from sklearn.model_selection import train_test_split\n",
    "from sklearn import linear_model\n",
    "X_train, X_test, y_train, y_test = train_test_split(scaled_X, scaled_Y, test_size=0.3, random_state=0)\n",
    "lm = linear_model.LogisticRegression(verbose=1)\n",
    "model = lm.fit(X_train, y_train)\n",
    "print (model)\n",
    "predictions = lm.predict(X_test)\n",
    "\n",
    "print (\"Score:\", model.score(X_test, y_test))"
   ]
  },
  {
   "cell_type": "code",
   "execution_count": 32,
   "metadata": {},
   "outputs": [],
   "source": [
    "text = \"republican says obama supports third trimester abortion\"\n",
    "dvmodel= Doc2Vec.load(\"d2v.model\")\n",
    "test_sentence= [dvmodel.infer_vector(word_tokenize(text))]"
   ]
  },
  {
   "cell_type": "code",
   "execution_count": 33,
   "metadata": {},
   "outputs": [],
   "source": [
    "predicted = model.predict(pd.DataFrame(test_sentence))\n",
    "predicted_probabilities = model.predict_proba(pd.DataFrame(test_sentence))"
   ]
  },
  {
   "cell_type": "code",
   "execution_count": 34,
   "metadata": {},
   "outputs": [
    {
     "name": "stdout",
     "output_type": "stream",
     "text": [
      "Doc2Vec prediction\n",
      "=====================\n",
      "Predicted class: [0] Predicted probabilities for class[0,1]: [[0.6112897 0.3887103]]\n",
      "Length of embeddings from Doc2Vec: 20\n",
      "Length of embeddings from Word2Vec embeddings: 100\n",
      "====================================================================\n"
     ]
    },
    {
     "name": "stderr",
     "output_type": "stream",
     "text": [
      "/Library/Frameworks/Python.framework/Versions/3.6/lib/python3.6/site-packages/ipykernel_launcher.py:9: DeprecationWarning: Call to deprecated `__contains__` (Method will be removed in 4.0.0, use self.wv.__contains__() instead).\n",
      "  if __name__ == '__main__':\n",
      "/Library/Frameworks/Python.framework/Versions/3.6/lib/python3.6/site-packages/ipykernel_launcher.py:10: DeprecationWarning: Call to deprecated `__getitem__` (Method will be removed in 4.0.0, use self.wv.__getitem__() instead).\n",
      "  # Remove the CWD from sys.path while we load stuff.\n"
     ]
    }
   ],
   "source": [
    "print (\"Doc2Vec prediction\")\n",
    "print (\"=====================\")\n",
    "print (\"Predicted class:\",predicted, \"Predicted probabilities for class[0,1]:\",predicted_probabilities)\n",
    "print (\"Length of embeddings from Doc2Vec:\", len(dvmodel.infer_vector(word_tokenize(text))))\n",
    "df = getVector(text)\n",
    "print (\"Length of embeddings from Word2Vec embeddings:\",len(df.columns))\n",
    "print (\"====================================================================\")\n"
   ]
  },
  {
   "cell_type": "markdown",
   "metadata": {},
   "source": [
    "## Class 1 probability is 0.35 and class 0 probability is 0.64 , so its likely a <font color=red> fake news </font> that <font color=red> \"republican says obama supports third trimester abortion\" </font>"
   ]
  },
  {
   "cell_type": "markdown",
   "metadata": {},
   "source": [
    "# Accuracy in predicting fake news based on \n",
    "## Doc2Vec embeddings: 0.641\n",
    "##  Word2Vec embeddings: 0.643"
   ]
  },
  {
   "cell_type": "markdown",
   "metadata": {},
   "source": [
    "# word2vec embeddings with vector summation seems to perform similar to Doc2Vec embeddings\n",
    "# it could be because word2vec is generating vectors of size <u>100</u> and while doc2vec is generating vectors of size <u>20.</u> \n",
    "# Doc 2 vec seem to get the same accuracy with 20 embeddings that word2vec does with 100 embeddings."
   ]
  },
  {
   "cell_type": "code",
   "execution_count": null,
   "metadata": {},
   "outputs": [],
   "source": []
  }
 ],
 "metadata": {
  "kernelspec": {
   "display_name": "Python 3",
   "language": "python",
   "name": "python3"
  },
  "language_info": {
   "codemirror_mode": {
    "name": "ipython",
    "version": 3
   },
   "file_extension": ".py",
   "mimetype": "text/x-python",
   "name": "python",
   "nbconvert_exporter": "python",
   "pygments_lexer": "ipython3",
   "version": "3.6.0"
  }
 },
 "nbformat": 4,
 "nbformat_minor": 2
}
