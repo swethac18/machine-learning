{
 "cells": [
  {
   "cell_type": "code",
   "execution_count": null,
   "metadata": {},
   "outputs": [],
   "source": [
    "import numpy as np \n",
    "import pandas as pd\n",
    "import matplotlib.pyplot as plt\n",
    "path=r'train.tsv'\n",
    "header = [\"id\",\"label\",\"text\",\"subject\",\"person\",\"title\",\"state\",\"party\",\"barely true\",\"false\",\"half true\",\"mostly true\",\"pants on fire\",\"context\"]\n",
    "print (len(header))\n",
    "data = pd.read_csv(path, sep='\\t',encoding='Latin1', names=header)"
   ]
  },
  {
   "cell_type": "code",
   "execution_count": null,
   "metadata": {},
   "outputs": [],
   "source": [
    "data.head()"
   ]
  },
  {
   "cell_type": "code",
   "execution_count": null,
   "metadata": {},
   "outputs": [],
   "source": [
    "data.describe()"
   ]
  },
  {
   "cell_type": "code",
   "execution_count": null,
   "metadata": {},
   "outputs": [],
   "source": [
    "#data['Barely_true'] = data['barely true'] / 70.0\n",
    "#data['fully_false'] = data['false'] / 114.0\n",
    "#data['half_true'] = data['half true'] / 160.0#\n",
    "#data['mostly_true'] = data['mostly true'] / 163.0\n",
    "#data['pants_on_fire'] = data['pants on fire'] / 105\n",
    "#data['interview'] = data['context'].apply(lambda x: 1 if \"interview\" in str(x).lower() else 0)\n",
    "\n",
    "data['democrat'] = data['party'].apply(lambda x : 1 if (x == 'democrat') else 0)\n",
    "data['republican'] = data['party'].apply(lambda x : 1 if (x == 'republican') else 0)\n",
    "data['label_value'] = data['label'].apply(lambda x: 0 if (x=='false') else 1)\n",
    "data['content_about_hillary_clinton'] = data['text'].apply(lambda x: 1 if 'hillary clinton' in str(x).lower() else 0)"
   ]
  },
  {
   "cell_type": "code",
   "execution_count": null,
   "metadata": {},
   "outputs": [],
   "source": [
    "features = ['content_about_hillary_clinton', 'democrat', 'republican']"
   ]
  },
  {
   "cell_type": "code",
   "execution_count": null,
   "metadata": {},
   "outputs": [],
   "source": [
    "X = data[features]\n",
    "Y = data[['label_value']]"
   ]
  },
  {
   "cell_type": "code",
   "execution_count": null,
   "metadata": {},
   "outputs": [],
   "source": [
    "from sklearn.model_selection import train_test_split\n",
    "from sklearn import linear_model\n",
    "X = X.fillna(0);\n",
    "Y = Y.fillna(0);\n",
    "X_train, X_test, y_train, y_test = train_test_split(X, Y, test_size=0.4, random_state=0)\n",
    "lm = linear_model.LogisticRegression(verbose=1)\n",
    "model = lm.fit(X_train, y_train)\n",
    "print (model)\n",
    "predictions = lm.predict(X_test)\n",
    "\n",
    "print (\"Score:\", model.score(X_test, y_test))"
   ]
  },
  {
   "cell_type": "code",
   "execution_count": null,
   "metadata": {},
   "outputs": [],
   "source": [
    "print (model.coef_)"
   ]
  },
  {
   "cell_type": "code",
   "execution_count": null,
   "metadata": {},
   "outputs": [],
   "source": [
    "# coefficient for content about hillary clinton = -0.1017 (she has high probability of getting fake news)\n",
    "# coefficient if party = democrat is positive (lesser fake news if the party is democrat) (**strictly based on dataset only)\n",
    "# coefficient if party = republican is negative (more fake news if the party of the speaker is republican)"
   ]
  }
 ],
 "metadata": {
  "kernelspec": {
   "display_name": "Python 3",
   "language": "python",
   "name": "python3"
  },
  "language_info": {
   "codemirror_mode": {
    "name": "ipython",
    "version": 3
   },
   "file_extension": ".py",
   "mimetype": "text/x-python",
   "name": "python",
   "nbconvert_exporter": "python",
   "pygments_lexer": "ipython3",
   "version": "3.5.5"
  }
 },
 "nbformat": 4,
 "nbformat_minor": 2
}
