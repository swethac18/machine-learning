{
 "cells": [
  {
   "cell_type": "markdown",
   "metadata": {},
   "source": [
    "<h1> Early implementation attempts, training a time series prediction model using Fake sine series </h1>\n",
    "<h2> Swetha Chandrasekar </h2>\n",
    "<h2> swetha.chandrasekar@sjsu.edu </h2>\n",
    "<h3> SJSU ID 012497628 </h3>"
   ]
  },
  {
   "cell_type": "markdown",
   "metadata": {},
   "source": [
    "<h1>Generate a  fake sine series for 10 numbers and generate 500 RAW training records </h1>"
   ]
  },
  {
   "cell_type": "code",
   "execution_count": 1,
   "metadata": {
    "_cell_guid": "979ec564-0185-efb8-ed8a-09bddbc5e10e",
    "_uuid": "1da4b153885ef6050bdae566ea4eccda3d9b28e8"
   },
   "outputs": [
    {
     "name": "stdout",
     "output_type": "stream",
     "text": [
      "501\n"
     ]
    }
   ],
   "source": [
    "import math\n",
    "import numpy\n",
    "sampled_points = []\n",
    "raw_data = []\n",
    "for i in range(0,5011):\n",
    "\n",
    "    if (i> 0 and i % 10 == 0):\n",
    "\n",
    "        raw_data.append(sampled_points)\n",
    "        sampled_points = []\n",
    "    sampled_points.append(math.sin(i))\n",
    "\n",
    "    \n",
    "print (len(raw_data))"
   ]
  },
  {
   "cell_type": "markdown",
   "metadata": {},
   "source": [
    "<h1> look into a training record </h1>"
   ]
  },
  {
   "cell_type": "code",
   "execution_count": 2,
   "metadata": {
    "_cell_guid": "99e626fc-ffa4-2405-d2aa-dc7f60ddf203",
    "_uuid": "566ed89e931e85df5a3853962e194c6dd06bd1ea"
   },
   "outputs": [
    {
     "name": "stdout",
     "output_type": "stream",
     "text": [
      "[ 0.          0.84147098  0.90929743  0.14112001 -0.7568025  -0.95892427\n",
      " -0.2794155   0.6569866   0.98935825]\n",
      "0.4121184852417566\n",
      "[ 0.          0.84147098  0.90929743  0.14112001 -0.7568025  -0.95892427\n",
      " -0.2794155   0.6569866   0.98935825  0.41211849]\n"
     ]
    }
   ],
   "source": [
    "A = numpy.array(raw_data)\n",
    "print (A[0][:9])\n",
    "print (A[0][-1])\n",
    "print (A[0])"
   ]
  },
  {
   "cell_type": "markdown",
   "metadata": {},
   "source": [
    "<H1> Creating training data and labels</H1>"
   ]
  },
  {
   "cell_type": "code",
   "execution_count": 3,
   "metadata": {
    "_cell_guid": "aa246f98-a516-8f65-8599-ee89c2f695ad",
    "_uuid": "fed622ba431063568c80699f06ed3fb5c4b05a4e"
   },
   "outputs": [],
   "source": [
    "training_data = []\n",
    "label = []\n",
    "for i in range(0,len(raw_data)):\n",
    "    training_data.append(raw_data[i][:9])\n",
    "    label.append(raw_data[i][-1])"
   ]
  },
  {
   "cell_type": "code",
   "execution_count": 4,
   "metadata": {
    "_cell_guid": "0c290e8a-6c2b-c849-14c9-019c2ecc70aa",
    "_uuid": "d023c8c4b2e95f9f68d532393b7e6942fe6ef55f"
   },
   "outputs": [],
   "source": [
    "X = numpy.array(training_data)\n",
    "Y = numpy.array(label)"
   ]
  },
  {
   "cell_type": "markdown",
   "metadata": {},
   "source": [
    "<H1> With 9 values of series try to predict the 10th value of the series using Linear Regression and Random Forest Regression</H1>"
   ]
  },
  {
   "cell_type": "code",
   "execution_count": 5,
   "metadata": {
    "_cell_guid": "ab9818c7-def6-c7e8-a69f-6f79ecd0f1fe",
    "_uuid": "d88a9c75e2ea3a86a01e9ee91b4d23cfbcd7f90e"
   },
   "outputs": [
    {
     "name": "stderr",
     "output_type": "stream",
     "text": [
      "/Library/Frameworks/Python.framework/Versions/3.6/lib/python3.6/site-packages/sklearn/linear_model/base.py:509: RuntimeWarning: internal gelsd driver lwork query error, required iwork dimension not returned. This is likely the result of LAPACK bug 0038, fixed in LAPACK 3.2.2 (released July 21, 2010). Falling back to 'gelss' driver.\n",
      "  linalg.lstsq(X, y)\n",
      "/Library/Frameworks/Python.framework/Versions/3.6/lib/python3.6/site-packages/sklearn/ensemble/weight_boosting.py:29: DeprecationWarning: numpy.core.umath_tests is an internal NumPy module and should not be imported. It will be removed in a future NumPy release.\n",
      "  from numpy.core.umath_tests import inner1d\n"
     ]
    },
    {
     "data": {
      "text/plain": [
       "0.9995306909105496"
      ]
     },
     "execution_count": 5,
     "metadata": {},
     "output_type": "execute_result"
    }
   ],
   "source": [
    "from sklearn.linear_model import LinearRegression\n",
    "reg = LinearRegression().fit(X, Y)\n",
    "reg.score(X, Y)\n",
    "from sklearn.ensemble import RandomForestRegressor\n",
    "\n",
    "tree = RandomForestRegressor(n_estimators=100, criterion='mse', max_depth=5, min_samples_split=5, min_samples_leaf=2)\n",
    "tree.fit(X,Y)\n",
    "tree.score(X,Y)"
   ]
  },
  {
   "cell_type": "markdown",
   "metadata": {
    "_cell_guid": "edf7d32c-d1c0-d919-b2af-6f3ea4ecf959",
    "_uuid": "301d4b78333357a6e2a5d9a16f277af4e63b6446"
   },
   "source": [
    "<h1> Creating synthetic test data </h1>"
   ]
  },
  {
   "cell_type": "code",
   "execution_count": 6,
   "metadata": {
    "_cell_guid": "d8586d93-d772-f2e1-0640-d7216445946e",
    "_uuid": "f2db7b381d354888024906f895744c35040f9491"
   },
   "outputs": [
    {
     "name": "stdout",
     "output_type": "stream",
     "text": [
      "50\n"
     ]
    }
   ],
   "source": [
    "sampled_points = []\n",
    "test_data = []\n",
    "for i in range(5011,5511):\n",
    "\n",
    "    if (i> 0 and i % 10 == 0):\n",
    "\n",
    "        test_data.append(sampled_points)\n",
    "        sampled_points = []\n",
    "    sampled_points.append(math.sin(i))\n",
    "\n",
    "    \n",
    "print (len(test_data))"
   ]
  },
  {
   "cell_type": "markdown",
   "metadata": {
    "_cell_guid": "7f7b150b-2543-cdf1-28ec-d04386da6821",
    "_uuid": "e8f3385be175c262119919a2829f526be2d6f1f9"
   },
   "source": [
    "<h1> Test a single record </h1>"
   ]
  },
  {
   "cell_type": "code",
   "execution_count": 7,
   "metadata": {
    "_cell_guid": "a6a2db7f-3193-8473-5b40-c5025360bb9b",
    "_uuid": "44e8692562c59af7e5c1270997d3d4da468c597a"
   },
   "outputs": [
    {
     "name": "stdout",
     "output_type": "stream",
     "text": [
      "[-0.11436557] [-0.12692591] -0.11436557202506041\n"
     ]
    }
   ],
   "source": [
    "import numpy as np\n",
    "Xtest = np.array([test_data[2][:9]])\n",
    "Ytest = np.array(test_data[2][-1])\n",
    "prediction_linear = reg.predict(Xtest)\n",
    "prediction_randomforest = tree.predict(Xtest)\n",
    "print (prediction_linear, prediction_randomforest, Ytest)"
   ]
  },
  {
   "cell_type": "code",
   "execution_count": 8,
   "metadata": {
    "_cell_guid": "d478f06f-264f-bd6f-b070-2912189d2895",
    "_uuid": "5d173aee7ed5df2461b55b1aa8bc6db2c8a87d5f"
   },
   "outputs": [
    {
     "name": "stdout",
     "output_type": "stream",
     "text": [
      "Ground Truth:  0.636412538440756 Prediction by Linear Regression: [0.63641254]  By RandomForest: [0.6388509]\n",
      "Ground Truth:  -0.11436557202506041 Prediction by Linear Regression: [-0.11436557]  By RandomForest: [-0.12692591]\n",
      "Ground Truth:  -0.4444907476552148 Prediction by Linear Regression: [-0.44449075]  By RandomForest: [-0.4278303]\n",
      "Ground Truth:  0.8602846346158537 Prediction by Linear Regression: [0.86028463]  By RandomForest: [0.87283485]\n",
      "Ground Truth:  -0.9991899399609883 Prediction by Linear Regression: [-0.99918994]  By RandomForest: [-0.97781739]\n",
      "Ground Truth:  0.8164990269058967 Prediction by Linear Regression: [0.81649903]  By RandomForest: [0.79746498]\n",
      "Ground Truth:  -0.37101223402974415 Prediction by Linear Regression: [-0.37101223]  By RandomForest: [-0.35024446]\n",
      "Ground Truth:  -0.1938874218790806 Prediction by Linear Regression: [-0.19388742]  By RandomForest: [-0.21641425]\n",
      "Ground Truth:  0.6963830651192868 Prediction by Linear Regression: [0.69638307]  By RandomForest: [0.71285372]\n",
      "Ground Truth:  -0.974742984666093 Prediction by Linear Regression: [-0.97474298]  By RandomForest: [-0.97781739]\n",
      "Ground Truth:  0.9393751080813606 Prediction by Linear Regression: [0.93937511]  By RandomForest: [0.91762332]\n",
      "Ground Truth:  -0.601662831962277 Prediction by Linear Regression: [-0.60166283]  By RandomForest: [-0.60328063]\n",
      "Ground Truth:  0.07030119672475221 Prediction by Linear Regression: [0.0703012]  By RandomForest: [0.07396036]\n",
      "Ground Truth:  0.4836873666987923 Prediction by Linear Regression: [0.48368737]  By RandomForest: [0.46635971]\n",
      "Ground Truth:  -0.881997793466589 Prediction by Linear Regression: [-0.88199779]  By RandomForest: [-0.89420016]\n",
      "Ground Truth:  0.9964311077133436 Prediction by Linear Regression: [0.99643111]  By RandomForest: [0.97753007]\n",
      "Ground Truth:  -0.790156152870168 Prediction by Linear Regression: [-0.79015615]  By RandomForest: [-0.77703606]\n",
      "Ground Truth:  0.32956395508253444 Prediction by Linear Regression: [0.32956396]  By RandomForest: [0.31146499]\n",
      "Ground Truth:  0.23710068943099716 Prediction by Linear Regression: [0.23710069]  By RandomForest: [0.25555381]\n",
      "Ground Truth:  -0.7274528311344302 Prediction by Linear Regression: [-0.72745283]  By RandomForest: [-0.73239914]\n",
      "Ground Truth:  0.9836692292709242 Prediction by Linear Regression: [0.98366923]  By RandomForest: [0.97807684]\n",
      "Ground Truth:  -0.9232848574851895 Prediction by Linear Regression: [-0.92328486]  By RandomForest: [-0.90268395]\n",
      "Ground Truth:  0.5657348450155406 Prediction by Linear Regression: [0.56573485]  By RandomForest: [0.5639245]\n",
      "Ground Truth:  -0.02609914543284966 Prediction by Linear Regression: [-0.02609915]  By RandomForest: [-0.02815682]\n",
      "Ground Truth:  -0.521936745283681 Prediction by Linear Regression: [-0.52193675]  By RandomForest: [-0.52313036]\n",
      "Ground Truth:  0.9019836713255798 Prediction by Linear Regression: [0.90198367]  By RandomForest: [0.91185623]\n",
      "Ground Truth:  -0.9917208913186121 Prediction by Linear Regression: [-0.99172089]  By RandomForest: [-0.97372662]\n",
      "Ground Truth:  0.7622658580659606 Prediction by Linear Regression: [0.76226586]  By RandomForest: [0.76954182]\n",
      "Ground Truth:  -0.28747026686174715 Prediction by Linear Regression: [-0.28747027]  By RandomForest: [-0.27032791]\n",
      "Ground Truth:  -0.2798496253065565 Prediction by Linear Regression: [-0.27984963]  By RandomForest: [-0.31185366]\n",
      "Ground Truth:  0.7570979728966365 Prediction by Linear Regression: [0.75709797]  By RandomForest: [0.76722617]\n",
      "Ground Truth:  -0.9906690822515701 Prediction by Linear Regression: [-0.99066908]  By RandomForest: [-0.97781739]\n",
      "Ground Truth:  0.9053864704105452 Prediction by Linear Regression: [0.90538647]  By RandomForest: [0.89526525]\n",
      "Ground Truth:  -0.5286989380134467 Prediction by Linear Regression: [-0.52869894]  By RandomForest: [-0.53126641]\n",
      "Ground Truth:  -0.01815401773046673 Prediction by Linear Regression: [-0.01815402]  By RandomForest: [-0.01419709]\n",
      "Ground Truth:  0.5591639768454142 Prediction by Linear Regression: [0.55916398]  By RandomForest: [0.55943402]\n",
      "Ground Truth:  -0.9202031283818366 Prediction by Linear Regression: [-0.92020313]  By RandomForest: [-0.92561254]\n",
      "Ground Truth:  0.9850685151391514 Prediction by Linear Regression: [0.98506852]  By RandomForest: [0.97267933]\n",
      "Ground Truth:  -0.73288276210392 Prediction by Linear Regression: [-0.73288276]  By RandomForest: [-0.75138966]\n",
      "Ground Truth:  0.24481360452546874 Prediction by Linear Regression: [0.2448136]  By RandomForest: [0.24710751]\n",
      "Ground Truth:  0.322050511128114 Prediction by Linear Regression: [0.32205051]  By RandomForest: [0.35133046]\n",
      "Ground Truth:  -0.785260434149708 Prediction by Linear Regression: [-0.78526043]  By RandomForest: [-0.81902755]\n",
      "Ground Truth:  0.995728835282355 Prediction by Linear Regression: [0.99572884]  By RandomForest: [0.97807684]\n",
      "Ground Truth:  -0.8857149985820532 Prediction by Linear Regression: [-0.885715]  By RandomForest: [-0.86692739]\n",
      "Ground Truth:  0.49062764109002754 Prediction by Linear Regression: [0.49062764]  By RandomForest: [0.48285867]\n",
      "Ground Truth:  0.06237162854888848 Prediction by Linear Regression: [0.06237163]  By RandomForest: [0.0606968]\n",
      "Ground Truth:  -0.5952961565650363 Prediction by Linear Regression: [-0.59529616]  By RandomForest: [-0.58872188]\n",
      "Ground Truth:  0.936620484135832 Prediction by Linear Regression: [0.93662048]  By RandomForest: [0.94846365]\n",
      "Ground Truth:  -0.9764870070113232 Prediction by Linear Regression: [-0.97648701]  By RandomForest: [-0.96376409]\n"
     ]
    }
   ],
   "source": [
    "Linear_RMSE = 0\n",
    "RF_RMSE = 0\n",
    "for i in range(1,len(test_data)):\n",
    "    Xtest = np.array([test_data[i][:9]])\n",
    "    Ytest = test_data[i][-1]\n",
    "    linear_regression_prediction = reg.predict(Xtest)\n",
    "    random_forest_prediction = tree.predict(Xtest)\n",
    "    print (\"Ground Truth: \", Ytest, \"Prediction by Linear Regression:\",linear_regression_prediction, \" By RandomForest:\",random_forest_prediction)\n",
    "    rmseerror_1 = math.sqrt((linear_regression_prediction - Ytest)**2)\n",
    "    rmseerror_2 = math.sqrt((random_forest_prediction - Ytest)**2)\n",
    "    Linear_RMSE += rmseerror_1;\n",
    "    RF_RMSE += rmseerror_2\n",
    "    \n",
    "    "
   ]
  },
  {
   "cell_type": "code",
   "execution_count": 9,
   "metadata": {},
   "outputs": [
    {
     "name": "stdout",
     "output_type": "stream",
     "text": [
      "Random Forest RMSE: 0.012232876155212718\n",
      "Linear Regression RMSE: 2.748495875337653e-16\n"
     ]
    }
   ],
   "source": [
    "print (\"Random Forest RMSE:\", RF_RMSE*1.0/len(test_data))\n",
    "print (\"Linear Regression RMSE:\", Linear_RMSE*1.0/len(test_data))"
   ]
  },
  {
   "cell_type": "code",
   "execution_count": 10,
   "metadata": {},
   "outputs": [
    {
     "name": "stdout",
     "output_type": "stream",
     "text": [
      "[-0.14699549 -0.01011619  0.18384211  0.21396344  0.05752345 -0.13973997\n",
      " -0.33983703 -0.07199723  0.0860645 ]\n"
     ]
    }
   ],
   "source": [
    "print (reg.coef_)"
   ]
  },
  {
   "cell_type": "markdown",
   "metadata": {},
   "source": [
    "<h1> Since this is data based on synthetic data, linear regression seem to outperform Random Forest</h1>"
   ]
  },
  {
   "cell_type": "code",
   "execution_count": null,
   "metadata": {},
   "outputs": [],
   "source": []
  }
 ],
 "metadata": {
  "_change_revision": 0,
  "_is_fork": false,
  "kernelspec": {
   "display_name": "Python 3",
   "language": "python",
   "name": "python3"
  },
  "language_info": {
   "codemirror_mode": {
    "name": "ipython",
    "version": 3
   },
   "file_extension": ".py",
   "mimetype": "text/x-python",
   "name": "python",
   "nbconvert_exporter": "python",
   "pygments_lexer": "ipython3",
   "version": "3.6.0"
  }
 },
 "nbformat": 4,
 "nbformat_minor": 1
}
